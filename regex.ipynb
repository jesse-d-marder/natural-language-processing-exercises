{
 "cells": [
  {
   "cell_type": "code",
   "execution_count": 1,
   "id": "b33cca8a-a65a-408c-96be-54e3a2bbe7fb",
   "metadata": {},
   "outputs": [],
   "source": [
    "import re\n",
    "import pandas as pd\n",
    "import numpy as np"
   ]
  },
  {
   "cell_type": "markdown",
   "id": "ed958647-354a-48c2-a26d-c7d2ef9eac16",
   "metadata": {},
   "source": [
    "# 1. Is it a vowel?"
   ]
  },
  {
   "cell_type": "code",
   "execution_count": 2,
   "id": "13864dae-6d77-40b2-9d34-2528d4616bd2",
   "metadata": {},
   "outputs": [],
   "source": [
    "def is_vowel(x:str):\n",
    "    \"\"\" Returns match object if inputted string x is a vowel \"\"\"\n",
    "    return re.search(r'^[aeiouAEIOU]$',x)\n",
    "\n",
    "    "
   ]
  },
  {
   "cell_type": "markdown",
   "id": "e7a609a3-e0b4-4185-8c5f-bac886357c7e",
   "metadata": {},
   "source": [
    "# 2. user names"
   ]
  },
  {
   "cell_type": "code",
   "execution_count": 3,
   "id": "7ec1b8cf-7675-4897-a49d-28cff809890a",
   "metadata": {},
   "outputs": [],
   "source": [
    "def is_valid_username(x:str):\n",
    "    \"\"\" Checks whether inputted string is a valid username:\n",
    "    -Starts with lowercase letter\n",
    "    -Only lowercase letters, numbers or _\n",
    "    -No longer than 32 characters\"\"\"\n",
    "    if re.search(r'^[a-z][_a-z0-9]{,31}$',x):\n",
    "        return True\n",
    "    else:\n",
    "        return False\n",
    "    "
   ]
  },
  {
   "cell_type": "code",
   "execution_count": 4,
   "id": "c80424d0-6d14-480c-87b7-c78290e6be33",
   "metadata": {},
   "outputs": [
    {
     "data": {
      "text/plain": [
       "True"
      ]
     },
     "execution_count": 4,
     "metadata": {},
     "output_type": "execute_result"
    }
   ],
   "source": [
    "is_valid_username('c_2odeup')\n"
   ]
  },
  {
   "cell_type": "markdown",
   "id": "dd40f688-6b52-4434-81a7-ac0b95e4eed2",
   "metadata": {},
   "source": [
    "# 3 Phone numbers"
   ]
  },
  {
   "cell_type": "code",
   "execution_count": 5,
   "id": "7055ff92-81e4-4151-b18c-3306815f09ea",
   "metadata": {},
   "outputs": [
    {
     "name": "stdout",
     "output_type": "stream",
     "text": [
      "(210) 867 5309 matches\n",
      "+1 210.867.5309 matches\n",
      "867-5309 matches\n",
      "210-867-5309 matches\n"
     ]
    }
   ],
   "source": [
    "subjects = ['(210) 867 5309',\n",
    "            '+1 210.867.5309', \n",
    "            '867-5309',\n",
    "            '210-867-5309']\n",
    "regexp = r'\\d{0,3}\\D?\\d{3}\\D\\d{4}'\n",
    "for subject in subjects:\n",
    "    if re.search(regexp, subject):\n",
    "        print(subject, \"matches\")\n",
    "    else:\n",
    "        print(subject, \"does not match\")\n"
   ]
  },
  {
   "cell_type": "code",
   "execution_count": 6,
   "id": "c8ec09fc-8a51-4ed0-8013-ccbc7ccba15f",
   "metadata": {},
   "outputs": [
    {
     "data": {
      "text/html": [
       "<div>\n",
       "<style scoped>\n",
       "    .dataframe tbody tr th:only-of-type {\n",
       "        vertical-align: middle;\n",
       "    }\n",
       "\n",
       "    .dataframe tbody tr th {\n",
       "        vertical-align: top;\n",
       "    }\n",
       "\n",
       "    .dataframe thead th {\n",
       "        text-align: right;\n",
       "    }\n",
       "</style>\n",
       "<table border=\"1\" class=\"dataframe\">\n",
       "  <thead>\n",
       "    <tr style=\"text-align: right;\">\n",
       "      <th></th>\n",
       "      <th>num</th>\n",
       "      <th>country</th>\n",
       "      <th>area_code</th>\n",
       "      <th>first_three</th>\n",
       "      <th>last_four</th>\n",
       "    </tr>\n",
       "  </thead>\n",
       "  <tbody>\n",
       "    <tr>\n",
       "      <th>0</th>\n",
       "      <td>(210) 867 5309</td>\n",
       "      <td>NaN</td>\n",
       "      <td>210</td>\n",
       "      <td>867</td>\n",
       "      <td>5309</td>\n",
       "    </tr>\n",
       "    <tr>\n",
       "      <th>1</th>\n",
       "      <td>+1 210.867.5309</td>\n",
       "      <td>+1</td>\n",
       "      <td>210</td>\n",
       "      <td>867</td>\n",
       "      <td>5309</td>\n",
       "    </tr>\n",
       "    <tr>\n",
       "      <th>2</th>\n",
       "      <td>867-5309</td>\n",
       "      <td>NaN</td>\n",
       "      <td>NaN</td>\n",
       "      <td>867</td>\n",
       "      <td>5309</td>\n",
       "    </tr>\n",
       "    <tr>\n",
       "      <th>3</th>\n",
       "      <td>210-867-5309</td>\n",
       "      <td>NaN</td>\n",
       "      <td>210</td>\n",
       "      <td>867</td>\n",
       "      <td>5309</td>\n",
       "    </tr>\n",
       "  </tbody>\n",
       "</table>\n",
       "</div>"
      ],
      "text/plain": [
       "               num country area_code first_three last_four\n",
       "0   (210) 867 5309     NaN       210         867      5309\n",
       "1  +1 210.867.5309      +1       210         867      5309\n",
       "2         867-5309     NaN       NaN         867      5309\n",
       "3     210-867-5309     NaN       210         867      5309"
      ]
     },
     "execution_count": 6,
     "metadata": {},
     "output_type": "execute_result"
    }
   ],
   "source": [
    "regexp = r'(?P<country>\\+\\d+)?\\D*(?P<area_code>\\d{3})?\\D*(?P<first_three>\\d{3})\\D*(?P<last_four>\\d{4})$'\n",
    "pd.concat([pd.DataFrame({'num':subjects}),pd.DataFrame({'num':subjects}).num.str.extract(regexp)],axis=1)"
   ]
  },
  {
   "cell_type": "markdown",
   "id": "6cccac56-9f39-4d3c-8973-09871bd64fe2",
   "metadata": {},
   "source": [
    "# 4 convert to year - month - day"
   ]
  },
  {
   "cell_type": "code",
   "execution_count": 7,
   "id": "1c8e7b3c-2ca0-4405-b265-b3deec92b9ae",
   "metadata": {},
   "outputs": [],
   "source": [
    "df = pd.DataFrame({'original_dates':['02/04/19','02/05/19','02/06/19','02/07/19','02/08/19','02/09/19','02/10/19']})\n",
    "regexp=r'(\\d{2})/(\\d{2})/(\\d{2})'\n",
    "\n",
    "# re.sub(regexp,r'20\\3-\\1-\\2', date)"
   ]
  },
  {
   "cell_type": "code",
   "execution_count": 8,
   "id": "b23d028a-4083-4662-983a-acdc170b5924",
   "metadata": {},
   "outputs": [],
   "source": [
    "df['converted'] = df.original_dates.str.replace(pat = regexp,repl = r'20\\3-\\1-\\2', regex=True)"
   ]
  },
  {
   "cell_type": "code",
   "execution_count": 9,
   "id": "4b75fa65-ecfb-492e-8df8-9b435c1d849d",
   "metadata": {},
   "outputs": [
    {
     "data": {
      "text/html": [
       "<div>\n",
       "<style scoped>\n",
       "    .dataframe tbody tr th:only-of-type {\n",
       "        vertical-align: middle;\n",
       "    }\n",
       "\n",
       "    .dataframe tbody tr th {\n",
       "        vertical-align: top;\n",
       "    }\n",
       "\n",
       "    .dataframe thead th {\n",
       "        text-align: right;\n",
       "    }\n",
       "</style>\n",
       "<table border=\"1\" class=\"dataframe\">\n",
       "  <thead>\n",
       "    <tr style=\"text-align: right;\">\n",
       "      <th></th>\n",
       "      <th>original_dates</th>\n",
       "      <th>converted</th>\n",
       "    </tr>\n",
       "  </thead>\n",
       "  <tbody>\n",
       "    <tr>\n",
       "      <th>0</th>\n",
       "      <td>02/04/19</td>\n",
       "      <td>2019-02-04</td>\n",
       "    </tr>\n",
       "    <tr>\n",
       "      <th>1</th>\n",
       "      <td>02/05/19</td>\n",
       "      <td>2019-02-05</td>\n",
       "    </tr>\n",
       "    <tr>\n",
       "      <th>2</th>\n",
       "      <td>02/06/19</td>\n",
       "      <td>2019-02-06</td>\n",
       "    </tr>\n",
       "    <tr>\n",
       "      <th>3</th>\n",
       "      <td>02/07/19</td>\n",
       "      <td>2019-02-07</td>\n",
       "    </tr>\n",
       "    <tr>\n",
       "      <th>4</th>\n",
       "      <td>02/08/19</td>\n",
       "      <td>2019-02-08</td>\n",
       "    </tr>\n",
       "    <tr>\n",
       "      <th>5</th>\n",
       "      <td>02/09/19</td>\n",
       "      <td>2019-02-09</td>\n",
       "    </tr>\n",
       "    <tr>\n",
       "      <th>6</th>\n",
       "      <td>02/10/19</td>\n",
       "      <td>2019-02-10</td>\n",
       "    </tr>\n",
       "  </tbody>\n",
       "</table>\n",
       "</div>"
      ],
      "text/plain": [
       "  original_dates   converted\n",
       "0       02/04/19  2019-02-04\n",
       "1       02/05/19  2019-02-05\n",
       "2       02/06/19  2019-02-06\n",
       "3       02/07/19  2019-02-07\n",
       "4       02/08/19  2019-02-08\n",
       "5       02/09/19  2019-02-09\n",
       "6       02/10/19  2019-02-10"
      ]
     },
     "execution_count": 9,
     "metadata": {},
     "output_type": "execute_result"
    }
   ],
   "source": [
    "df"
   ]
  },
  {
   "cell_type": "markdown",
   "id": "8313bcaf-2c9d-4e7f-9cd2-c851c3cd4df6",
   "metadata": {},
   "source": [
    "# 5 - logs"
   ]
  },
  {
   "cell_type": "code",
   "execution_count": 10,
   "id": "3bd767d2-58e6-46b8-adc3-92e635751f00",
   "metadata": {},
   "outputs": [],
   "source": [
    "df = pd.DataFrame({'original_logs':['GET /api/v1/sales?page=86 [16/Apr/2019:193452+0000] HTTP/1.1 {200} 510348 \"python-requests/2.21.0\" 97.105.19.58',\n",
    "        'POST /users_accounts/file-upload [16/Apr/2019:193452+0000] HTTP/1.1 {201} 42 \"User-Agent: Mozilla/5.0 (X11; Fedora; Fedora; Linux x86_64) AppleWebKit/537.36 (KHTML, like Gecko) Chrome/73.0.3683.86 Safari/537.36\" 97.105.19.58',\n",
    "        'GET /api/v1/items?page=3 [16/Apr/2019:193453+0000] HTTP/1.1 {429} 3561 \"python-requests/2.21.0\" 97.105.19.58']})\n",
    "\n",
    "\n",
    "df = pd.concat([df, \n",
    "                df.original_logs.str.extract(r'(?P<request_method>^[A-Z]{3,})\\s*(?P<request_path>/\\S*\\b)\\s*\\[(?P<timestamp>[^]]*).*(?P<http_version>[H]\\S*).\\{(?P<status_code>\\d{3,})\\}\\s*(?P<size>\\s\\d{1,}\\s)\\s*\"(?P<user_agent>.*)\"\\s(?P<ip_address>\\S*$)')],axis=1)\n"
   ]
  },
  {
   "cell_type": "code",
   "execution_count": 11,
   "id": "2248fe42-8983-4aab-ab6b-23617f80e892",
   "metadata": {},
   "outputs": [
    {
     "data": {
      "text/html": [
       "<div>\n",
       "<style scoped>\n",
       "    .dataframe tbody tr th:only-of-type {\n",
       "        vertical-align: middle;\n",
       "    }\n",
       "\n",
       "    .dataframe tbody tr th {\n",
       "        vertical-align: top;\n",
       "    }\n",
       "\n",
       "    .dataframe thead th {\n",
       "        text-align: right;\n",
       "    }\n",
       "</style>\n",
       "<table border=\"1\" class=\"dataframe\">\n",
       "  <thead>\n",
       "    <tr style=\"text-align: right;\">\n",
       "      <th></th>\n",
       "      <th>original_logs</th>\n",
       "      <th>request_method</th>\n",
       "      <th>request_path</th>\n",
       "      <th>timestamp</th>\n",
       "      <th>http_version</th>\n",
       "      <th>status_code</th>\n",
       "      <th>size</th>\n",
       "      <th>user_agent</th>\n",
       "      <th>ip_address</th>\n",
       "    </tr>\n",
       "  </thead>\n",
       "  <tbody>\n",
       "    <tr>\n",
       "      <th>0</th>\n",
       "      <td>GET /api/v1/sales?page=86 [16/Apr/2019:193452+...</td>\n",
       "      <td>GET</td>\n",
       "      <td>/api/v1/sales?page=86</td>\n",
       "      <td>16/Apr/2019:193452+0000</td>\n",
       "      <td>HTTP/1.1</td>\n",
       "      <td>200</td>\n",
       "      <td>510348</td>\n",
       "      <td>python-requests/2.21.0</td>\n",
       "      <td>97.105.19.58</td>\n",
       "    </tr>\n",
       "    <tr>\n",
       "      <th>1</th>\n",
       "      <td>POST /users_accounts/file-upload [16/Apr/2019:...</td>\n",
       "      <td>POST</td>\n",
       "      <td>/users_accounts/file-upload</td>\n",
       "      <td>16/Apr/2019:193452+0000</td>\n",
       "      <td>HTTP/1.1</td>\n",
       "      <td>201</td>\n",
       "      <td>42</td>\n",
       "      <td>User-Agent: Mozilla/5.0 (X11; Fedora; Fedora; ...</td>\n",
       "      <td>97.105.19.58</td>\n",
       "    </tr>\n",
       "    <tr>\n",
       "      <th>2</th>\n",
       "      <td>GET /api/v1/items?page=3 [16/Apr/2019:193453+0...</td>\n",
       "      <td>GET</td>\n",
       "      <td>/api/v1/items?page=3</td>\n",
       "      <td>16/Apr/2019:193453+0000</td>\n",
       "      <td>HTTP/1.1</td>\n",
       "      <td>429</td>\n",
       "      <td>3561</td>\n",
       "      <td>python-requests/2.21.0</td>\n",
       "      <td>97.105.19.58</td>\n",
       "    </tr>\n",
       "  </tbody>\n",
       "</table>\n",
       "</div>"
      ],
      "text/plain": [
       "                                       original_logs request_method  \\\n",
       "0  GET /api/v1/sales?page=86 [16/Apr/2019:193452+...            GET   \n",
       "1  POST /users_accounts/file-upload [16/Apr/2019:...           POST   \n",
       "2  GET /api/v1/items?page=3 [16/Apr/2019:193453+0...            GET   \n",
       "\n",
       "                  request_path                timestamp http_version  \\\n",
       "0        /api/v1/sales?page=86  16/Apr/2019:193452+0000     HTTP/1.1   \n",
       "1  /users_accounts/file-upload  16/Apr/2019:193452+0000     HTTP/1.1   \n",
       "2         /api/v1/items?page=3  16/Apr/2019:193453+0000     HTTP/1.1   \n",
       "\n",
       "  status_code      size                                         user_agent  \\\n",
       "0         200   510348                              python-requests/2.21.0   \n",
       "1         201       42   User-Agent: Mozilla/5.0 (X11; Fedora; Fedora; ...   \n",
       "2         429     3561                              python-requests/2.21.0   \n",
       "\n",
       "     ip_address  \n",
       "0  97.105.19.58  \n",
       "1  97.105.19.58  \n",
       "2  97.105.19.58  "
      ]
     },
     "execution_count": 11,
     "metadata": {},
     "output_type": "execute_result"
    }
   ],
   "source": [
    "df"
   ]
  },
  {
   "cell_type": "markdown",
   "id": "62cb31ea-b7e2-49b8-aa38-0b597692f80e",
   "metadata": {},
   "source": [
    "# BONUS"
   ]
  },
  {
   "cell_type": "code",
   "execution_count": 12,
   "id": "a1fffc74-52c0-4e59-aa46-608ebb6bbad7",
   "metadata": {},
   "outputs": [],
   "source": [
    "words = pd.read_table('/usr/share/dict/words')\n",
    "words = words.rename(columns = {'A':'word'}).dropna()"
   ]
  },
  {
   "cell_type": "code",
   "execution_count": 13,
   "id": "24b74727-6e62-47eb-beac-5bbc45edc8fd",
   "metadata": {},
   "outputs": [
    {
     "data": {
      "text/html": [
       "<div>\n",
       "<style scoped>\n",
       "    .dataframe tbody tr th:only-of-type {\n",
       "        vertical-align: middle;\n",
       "    }\n",
       "\n",
       "    .dataframe tbody tr th {\n",
       "        vertical-align: top;\n",
       "    }\n",
       "\n",
       "    .dataframe thead th {\n",
       "        text-align: right;\n",
       "    }\n",
       "</style>\n",
       "<table border=\"1\" class=\"dataframe\">\n",
       "  <thead>\n",
       "    <tr style=\"text-align: right;\">\n",
       "      <th></th>\n",
       "      <th>word</th>\n",
       "    </tr>\n",
       "  </thead>\n",
       "  <tbody>\n",
       "    <tr>\n",
       "      <th>0</th>\n",
       "      <td>a</td>\n",
       "    </tr>\n",
       "    <tr>\n",
       "      <th>1</th>\n",
       "      <td>aa</td>\n",
       "    </tr>\n",
       "    <tr>\n",
       "      <th>2</th>\n",
       "      <td>aal</td>\n",
       "    </tr>\n",
       "    <tr>\n",
       "      <th>3</th>\n",
       "      <td>aalii</td>\n",
       "    </tr>\n",
       "    <tr>\n",
       "      <th>4</th>\n",
       "      <td>aam</td>\n",
       "    </tr>\n",
       "    <tr>\n",
       "      <th>...</th>\n",
       "      <td>...</td>\n",
       "    </tr>\n",
       "    <tr>\n",
       "      <th>235880</th>\n",
       "      <td>zythem</td>\n",
       "    </tr>\n",
       "    <tr>\n",
       "      <th>235881</th>\n",
       "      <td>Zythia</td>\n",
       "    </tr>\n",
       "    <tr>\n",
       "      <th>235882</th>\n",
       "      <td>zythum</td>\n",
       "    </tr>\n",
       "    <tr>\n",
       "      <th>235883</th>\n",
       "      <td>Zyzomys</td>\n",
       "    </tr>\n",
       "    <tr>\n",
       "      <th>235884</th>\n",
       "      <td>Zyzzogeton</td>\n",
       "    </tr>\n",
       "  </tbody>\n",
       "</table>\n",
       "<p>235883 rows × 1 columns</p>\n",
       "</div>"
      ],
      "text/plain": [
       "              word\n",
       "0                a\n",
       "1               aa\n",
       "2              aal\n",
       "3            aalii\n",
       "4              aam\n",
       "...            ...\n",
       "235880      zythem\n",
       "235881      Zythia\n",
       "235882      zythum\n",
       "235883     Zyzomys\n",
       "235884  Zyzzogeton\n",
       "\n",
       "[235883 rows x 1 columns]"
      ]
     },
     "execution_count": 13,
     "metadata": {},
     "output_type": "execute_result"
    }
   ],
   "source": [
    "words"
   ]
  },
  {
   "cell_type": "code",
   "execution_count": 14,
   "id": "646b6fa2-57fa-4265-a24b-b64a6d96dc11",
   "metadata": {},
   "outputs": [],
   "source": [
    "def count_vowels(x:str):\n",
    "    num_vowels = 0\n",
    "    for letter in str(x):\n",
    "        if re.search(r'[aeiouAEIOU]',letter):\n",
    "            num_vowels += 1\n",
    "        else:\n",
    "            continue\n",
    "    return num_vowels"
   ]
  },
  {
   "cell_type": "code",
   "execution_count": 15,
   "id": "af5b08b0-8200-4a0d-8a3e-df17a5a446ba",
   "metadata": {},
   "outputs": [],
   "source": [
    "words[\"num_vowels\"] = words.apply(lambda row: count_vowels(row.word), axis=1)"
   ]
  },
  {
   "cell_type": "markdown",
   "id": "c9da9a68-461b-4057-9720-fb6e9dea29d0",
   "metadata": {},
   "source": [
    "Words with at least 3 vowels"
   ]
  },
  {
   "cell_type": "code",
   "execution_count": 16,
   "id": "df313370-8166-4059-9123-70527efb94cf",
   "metadata": {},
   "outputs": [
    {
     "data": {
      "text/plain": [
       "191365"
      ]
     },
     "execution_count": 16,
     "metadata": {},
     "output_type": "execute_result"
    }
   ],
   "source": [
    "(words.num_vowels>=3).sum()"
   ]
  },
  {
   "cell_type": "code",
   "execution_count": 17,
   "id": "c5d7f4f7-9017-4a11-85d0-50ef820e8b87",
   "metadata": {},
   "outputs": [],
   "source": [
    "def count_consec_vowels(x:str):\n",
    "    if re.search(r'[aeiouAEIOU]{3,}',x):\n",
    "        return True\n",
    "    else:\n",
    "        return False"
   ]
  },
  {
   "cell_type": "code",
   "execution_count": 18,
   "id": "4017d723-2d78-46f1-85c0-e0b450045d40",
   "metadata": {},
   "outputs": [],
   "source": [
    "words[\"consec_vowels_3\"] = words.apply(lambda row: count_consec_vowels(row.word), axis=1)"
   ]
  },
  {
   "cell_type": "code",
   "execution_count": 19,
   "id": "4c2675b1-a4b8-4ce5-9029-86983a084a63",
   "metadata": {},
   "outputs": [
    {
     "name": "stdout",
     "output_type": "stream",
     "text": [
      "6182 words with at least 3 vowels in a row\n"
     ]
    }
   ],
   "source": [
    "print(f\"{words.consec_vowels_3.sum()} words with at least 3 vowels in a row\")"
   ]
  },
  {
   "cell_type": "code",
   "execution_count": 20,
   "id": "e61f6aef-dbe1-4885-9d56-3ccf2ac9f02a",
   "metadata": {},
   "outputs": [],
   "source": [
    "words[\"consec_cons_4\"] = words.word.str.contains(r'[^aeiouAEIOU]{4,}')"
   ]
  },
  {
   "cell_type": "code",
   "execution_count": 21,
   "id": "baacc38f-f1b2-47c5-b289-258de15aeb34",
   "metadata": {},
   "outputs": [
    {
     "name": "stdout",
     "output_type": "stream",
     "text": [
      "19241 words contain at least 4 consonants in a row\n"
     ]
    }
   ],
   "source": [
    "print(f\"{words.consec_cons_4.sum()} words contain at least 4 consonants in a row\")"
   ]
  },
  {
   "cell_type": "code",
   "execution_count": 22,
   "id": "619309eb-5aab-42d9-a7d7-a9b97b902ee2",
   "metadata": {},
   "outputs": [
    {
     "data": {
      "text/plain": [
       "'a'"
      ]
     },
     "execution_count": 22,
     "metadata": {},
     "output_type": "execute_result"
    }
   ],
   "source": [
    "'a'[-1]"
   ]
  },
  {
   "cell_type": "code",
   "execution_count": 23,
   "id": "16822a22-cf74-4b1a-bc50-7d94730b7497",
   "metadata": {},
   "outputs": [
    {
     "name": "stdout",
     "output_type": "stream",
     "text": [
      "9967 words start and end with the same letter\n"
     ]
    }
   ],
   "source": [
    "words[\"start_end_same\"] = words.word.apply(lambda row: row[0]==row[-1])\n",
    "\n",
    "print(f\"{words.start_end_same.sum()} words start and end with the same letter\")"
   ]
  },
  {
   "cell_type": "code",
   "execution_count": 24,
   "id": "adc542ab-b415-4369-b448-6f863162ae2a",
   "metadata": {},
   "outputs": [],
   "source": [
    "def start_and_ends_with_vowel(x:str):\n",
    "    if is_vowel(x[0]):\n",
    "        if is_vowel(x[-1]):\n",
    "            return True\n",
    "        else:\n",
    "            return False\n",
    "    else:\n",
    "        return False"
   ]
  },
  {
   "cell_type": "code",
   "execution_count": 25,
   "id": "6021579c-5085-4ab9-814a-8a85912af3ee",
   "metadata": {},
   "outputs": [
    {
     "name": "stdout",
     "output_type": "stream",
     "text": [
      "14666 words start and end with a vowel\n"
     ]
    }
   ],
   "source": [
    "words[\"start_end_vowel\"] = words.word.apply(lambda row: start_and_ends_with_vowel(row))\n",
    "\n",
    "print(f\"{words.start_end_vowel.sum()} words start and end with a vowel\")"
   ]
  },
  {
   "cell_type": "code",
   "execution_count": 50,
   "id": "0cc68ba4-30c1-45a0-9d32-46f6bc261b6a",
   "metadata": {},
   "outputs": [
    {
     "name": "stderr",
     "output_type": "stream",
     "text": [
      "/var/folders/tt/99v8dp0d60sfw82fs51dhr4m0000gn/T/ipykernel_29058/2068142794.py:1: UserWarning: This pattern has match groups. To actually get the groups, use str.extract.\n",
      "  words[\"same_letter_3\"] = words.word.str.contains(r'([a-z])\\1{3}') # doesn't work yet\n"
     ]
    }
   ],
   "source": [
    "words[\"same_letter_3\"] = words.word.str.contains(r'([a-z])\\1{3}') # doesn't work yet"
   ]
  },
  {
   "cell_type": "code",
   "execution_count": null,
   "id": "a11c95f6-ba66-4317-a5cb-11de70bf82f0",
   "metadata": {},
   "outputs": [],
   "source": []
  },
  {
   "cell_type": "code",
   "execution_count": null,
   "id": "702889ed-d2a8-4ee8-bd74-6fa365b731d2",
   "metadata": {},
   "outputs": [],
   "source": []
  }
 ],
 "metadata": {
  "kernelspec": {
   "display_name": "Python 3 (ipykernel)",
   "language": "python",
   "name": "python3"
  },
  "language_info": {
   "codemirror_mode": {
    "name": "ipython",
    "version": 3
   },
   "file_extension": ".py",
   "mimetype": "text/x-python",
   "name": "python",
   "nbconvert_exporter": "python",
   "pygments_lexer": "ipython3",
   "version": "3.9.7"
  }
 },
 "nbformat": 4,
 "nbformat_minor": 5
}
