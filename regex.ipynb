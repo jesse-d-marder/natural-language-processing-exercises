{
 "cells": [
  {
   "cell_type": "code",
   "execution_count": 161,
   "id": "b33cca8a-a65a-408c-96be-54e3a2bbe7fb",
   "metadata": {},
   "outputs": [],
   "source": [
    "import re\n",
    "import pandas as pd"
   ]
  },
  {
   "cell_type": "code",
   "execution_count": 86,
   "id": "13864dae-6d77-40b2-9d34-2528d4616bd2",
   "metadata": {},
   "outputs": [],
   "source": [
    "def is_vowel(x:str):\n",
    "    \"\"\" Returns match object if inputted string x is a vowel \"\"\"\n",
    "    return re.search(r'^[aeiouAEIOU]$',x)\n",
    "\n",
    "    "
   ]
  },
  {
   "cell_type": "code",
   "execution_count": 111,
   "id": "7ec1b8cf-7675-4897-a49d-28cff809890a",
   "metadata": {},
   "outputs": [],
   "source": [
    "def is_valid_username(x:str):\n",
    "    \"\"\" Checks whether inputted string is a valid username:\n",
    "    -Starts with lowercase letter\n",
    "    -Only lowercase letters, numbers or _\n",
    "    -No longer than 32 characters\"\"\"\n",
    "    if re.search(r'^[a-z][_a-z0-9]{,31}$',x):\n",
    "        return True\n",
    "    else:\n",
    "        return False\n",
    "    "
   ]
  },
  {
   "cell_type": "code",
   "execution_count": 157,
   "id": "c80424d0-6d14-480c-87b7-c78290e6be33",
   "metadata": {},
   "outputs": [
    {
     "data": {
      "text/plain": [
       "True"
      ]
     },
     "execution_count": 157,
     "metadata": {},
     "output_type": "execute_result"
    }
   ],
   "source": [
    "is_valid_username('c_2odeup')\n"
   ]
  },
  {
   "cell_type": "code",
   "execution_count": 153,
   "id": "7055ff92-81e4-4151-b18c-3306815f09ea",
   "metadata": {},
   "outputs": [
    {
     "name": "stdout",
     "output_type": "stream",
     "text": [
      "(210) 867 5309 matches\n",
      "+1 210.867.5309 matches\n",
      "867-5309 matches\n",
      "210-867-5309 matches\n"
     ]
    }
   ],
   "source": [
    "subjects = ['(210) 867 5309',\n",
    "            '+1 210.867.5309', \n",
    "            '867-5309',\n",
    "            '210-867-5309']\n",
    "regexp = r'\\d{0,3}\\D?\\d{3}\\D\\d{4}'\n",
    "for subject in subjects:\n",
    "    if re.search(regexp, subject):\n",
    "        print(subject, \"matches\")\n",
    "    else:\n",
    "        print(subject, \"does not match\")\n"
   ]
  },
  {
   "cell_type": "markdown",
   "id": "6cccac56-9f39-4d3c-8973-09871bd64fe2",
   "metadata": {},
   "source": [
    "# 4 convert to year - month - day"
   ]
  },
  {
   "cell_type": "code",
   "execution_count": 165,
   "id": "1c8e7b3c-2ca0-4405-b265-b3deec92b9ae",
   "metadata": {},
   "outputs": [],
   "source": [
    "df = pd.DataFrame({'original_dates':['02/04/19','02/05/19','02/06/19','02/07/19','02/08/19','02/09/19','02/10/19']})\n",
    "regexp=r'(\\d{2})/(\\d{2})/(\\d{2})'\n",
    "\n",
    "# re.sub(regexp,r'20\\3-\\1-\\2', date)"
   ]
  },
  {
   "cell_type": "code",
   "execution_count": 167,
   "id": "b23d028a-4083-4662-983a-acdc170b5924",
   "metadata": {},
   "outputs": [],
   "source": [
    "df['converted'] = df.original_dates.str.replace(pat = regexp,repl = r'20\\3-\\1-\\2', regex=True)"
   ]
  },
  {
   "cell_type": "code",
   "execution_count": 168,
   "id": "4b75fa65-ecfb-492e-8df8-9b435c1d849d",
   "metadata": {},
   "outputs": [
    {
     "data": {
      "text/html": [
       "<div>\n",
       "<style scoped>\n",
       "    .dataframe tbody tr th:only-of-type {\n",
       "        vertical-align: middle;\n",
       "    }\n",
       "\n",
       "    .dataframe tbody tr th {\n",
       "        vertical-align: top;\n",
       "    }\n",
       "\n",
       "    .dataframe thead th {\n",
       "        text-align: right;\n",
       "    }\n",
       "</style>\n",
       "<table border=\"1\" class=\"dataframe\">\n",
       "  <thead>\n",
       "    <tr style=\"text-align: right;\">\n",
       "      <th></th>\n",
       "      <th>original_dates</th>\n",
       "      <th>converted</th>\n",
       "    </tr>\n",
       "  </thead>\n",
       "  <tbody>\n",
       "    <tr>\n",
       "      <th>0</th>\n",
       "      <td>02/04/19</td>\n",
       "      <td>2019-02-04</td>\n",
       "    </tr>\n",
       "    <tr>\n",
       "      <th>1</th>\n",
       "      <td>02/05/19</td>\n",
       "      <td>2019-02-05</td>\n",
       "    </tr>\n",
       "    <tr>\n",
       "      <th>2</th>\n",
       "      <td>02/06/19</td>\n",
       "      <td>2019-02-06</td>\n",
       "    </tr>\n",
       "    <tr>\n",
       "      <th>3</th>\n",
       "      <td>02/07/19</td>\n",
       "      <td>2019-02-07</td>\n",
       "    </tr>\n",
       "    <tr>\n",
       "      <th>4</th>\n",
       "      <td>02/08/19</td>\n",
       "      <td>2019-02-08</td>\n",
       "    </tr>\n",
       "    <tr>\n",
       "      <th>5</th>\n",
       "      <td>02/09/19</td>\n",
       "      <td>2019-02-09</td>\n",
       "    </tr>\n",
       "    <tr>\n",
       "      <th>6</th>\n",
       "      <td>02/10/19</td>\n",
       "      <td>2019-02-10</td>\n",
       "    </tr>\n",
       "  </tbody>\n",
       "</table>\n",
       "</div>"
      ],
      "text/plain": [
       "  original_dates   converted\n",
       "0       02/04/19  2019-02-04\n",
       "1       02/05/19  2019-02-05\n",
       "2       02/06/19  2019-02-06\n",
       "3       02/07/19  2019-02-07\n",
       "4       02/08/19  2019-02-08\n",
       "5       02/09/19  2019-02-09\n",
       "6       02/10/19  2019-02-10"
      ]
     },
     "execution_count": 168,
     "metadata": {},
     "output_type": "execute_result"
    }
   ],
   "source": [
    "df"
   ]
  },
  {
   "cell_type": "markdown",
   "id": "8313bcaf-2c9d-4e7f-9cd2-c851c3cd4df6",
   "metadata": {},
   "source": [
    "# 5 - logs"
   ]
  },
  {
   "cell_type": "code",
   "execution_count": 338,
   "id": "3bd767d2-58e6-46b8-adc3-92e635751f00",
   "metadata": {},
   "outputs": [],
   "source": [
    "df = pd.DataFrame({'original_logs':['GET /api/v1/sales?page=86 [16/Apr/2019:193452+0000] HTTP/1.1 {200} 510348 \"python-requests/2.21.0\" 97.105.19.58',\n",
    "        'POST /users_accounts/file-upload [16/Apr/2019:193452+0000] HTTP/1.1 {201} 42 \"User-Agent: Mozilla/5.0 (X11; Fedora; Fedora; Linux x86_64) AppleWebKit/537.36 (KHTML, like Gecko) Chrome/73.0.3683.86 Safari/537.36\" 97.105.19.58',\n",
    "        'GET /api/v1/items?page=3 [16/Apr/2019:193453+0000] HTTP/1.1 {429} 3561 \"python-requests/2.21.0\" 97.105.19.58']})\n",
    "\n",
    "\n",
    "df = pd.concat([df, df.original_logs.str.extract(r'(?P<request_method>^[A-Z]{3,})\\s*(?P<request_path>/\\S*\\b)\\s*[\"[\"](?P<timestamp>[^]]*).*(?P<http_version>[H]\\S*).[\"{\"](?P<status_code>\\d{3,})[\"}\"]\\s*(?P<size>\\s\\d{1,}\\s)\\s*[\"\"\"](?P<user_agent>.*)[\"\"\"]\\s(?P<ip_address>\\S*$)')],axis=1)\n"
   ]
  },
  {
   "cell_type": "code",
   "execution_count": 339,
   "id": "2248fe42-8983-4aab-ab6b-23617f80e892",
   "metadata": {},
   "outputs": [
    {
     "data": {
      "text/html": [
       "<div>\n",
       "<style scoped>\n",
       "    .dataframe tbody tr th:only-of-type {\n",
       "        vertical-align: middle;\n",
       "    }\n",
       "\n",
       "    .dataframe tbody tr th {\n",
       "        vertical-align: top;\n",
       "    }\n",
       "\n",
       "    .dataframe thead th {\n",
       "        text-align: right;\n",
       "    }\n",
       "</style>\n",
       "<table border=\"1\" class=\"dataframe\">\n",
       "  <thead>\n",
       "    <tr style=\"text-align: right;\">\n",
       "      <th></th>\n",
       "      <th>original_logs</th>\n",
       "      <th>request_method</th>\n",
       "      <th>request_path</th>\n",
       "      <th>timestamp</th>\n",
       "      <th>http_version</th>\n",
       "      <th>status_code</th>\n",
       "      <th>size</th>\n",
       "      <th>user_agent</th>\n",
       "      <th>ip_address</th>\n",
       "    </tr>\n",
       "  </thead>\n",
       "  <tbody>\n",
       "    <tr>\n",
       "      <th>0</th>\n",
       "      <td>GET /api/v1/sales?page=86 [16/Apr/2019:193452+...</td>\n",
       "      <td>GET</td>\n",
       "      <td>/api/v1/sales?page=86</td>\n",
       "      <td>16/Apr/2019:193452+0000</td>\n",
       "      <td>HTTP/1.1</td>\n",
       "      <td>200</td>\n",
       "      <td>510348</td>\n",
       "      <td>python-requests/2.21.0</td>\n",
       "      <td>97.105.19.58</td>\n",
       "    </tr>\n",
       "    <tr>\n",
       "      <th>1</th>\n",
       "      <td>POST /users_accounts/file-upload [16/Apr/2019:...</td>\n",
       "      <td>POST</td>\n",
       "      <td>/users_accounts/file-upload</td>\n",
       "      <td>16/Apr/2019:193452+0000</td>\n",
       "      <td>HTTP/1.1</td>\n",
       "      <td>201</td>\n",
       "      <td>42</td>\n",
       "      <td>User-Agent: Mozilla/5.0 (X11; Fedora; Fedora; ...</td>\n",
       "      <td>97.105.19.58</td>\n",
       "    </tr>\n",
       "    <tr>\n",
       "      <th>2</th>\n",
       "      <td>GET /api/v1/items?page=3 [16/Apr/2019:193453+0...</td>\n",
       "      <td>GET</td>\n",
       "      <td>/api/v1/items?page=3</td>\n",
       "      <td>16/Apr/2019:193453+0000</td>\n",
       "      <td>HTTP/1.1</td>\n",
       "      <td>429</td>\n",
       "      <td>3561</td>\n",
       "      <td>python-requests/2.21.0</td>\n",
       "      <td>97.105.19.58</td>\n",
       "    </tr>\n",
       "  </tbody>\n",
       "</table>\n",
       "</div>"
      ],
      "text/plain": [
       "                                       original_logs request_method  \\\n",
       "0  GET /api/v1/sales?page=86 [16/Apr/2019:193452+...            GET   \n",
       "1  POST /users_accounts/file-upload [16/Apr/2019:...           POST   \n",
       "2  GET /api/v1/items?page=3 [16/Apr/2019:193453+0...            GET   \n",
       "\n",
       "                  request_path                timestamp http_version  \\\n",
       "0        /api/v1/sales?page=86  16/Apr/2019:193452+0000     HTTP/1.1   \n",
       "1  /users_accounts/file-upload  16/Apr/2019:193452+0000     HTTP/1.1   \n",
       "2         /api/v1/items?page=3  16/Apr/2019:193453+0000     HTTP/1.1   \n",
       "\n",
       "  status_code      size                                         user_agent  \\\n",
       "0         200   510348                              python-requests/2.21.0   \n",
       "1         201       42   User-Agent: Mozilla/5.0 (X11; Fedora; Fedora; ...   \n",
       "2         429     3561                              python-requests/2.21.0   \n",
       "\n",
       "     ip_address  \n",
       "0  97.105.19.58  \n",
       "1  97.105.19.58  \n",
       "2  97.105.19.58  "
      ]
     },
     "execution_count": 339,
     "metadata": {},
     "output_type": "execute_result"
    }
   ],
   "source": [
    "df"
   ]
  },
  {
   "cell_type": "markdown",
   "id": "62cb31ea-b7e2-49b8-aa38-0b597692f80e",
   "metadata": {},
   "source": [
    "# BONUS"
   ]
  },
  {
   "cell_type": "code",
   "execution_count": 350,
   "id": "a1fffc74-52c0-4e59-aa46-608ebb6bbad7",
   "metadata": {},
   "outputs": [],
   "source": [
    "words = pd.read_table('../../../../usr/share/dict/words')\n",
    "words = words.rename(columns = {'A':'word'})"
   ]
  },
  {
   "cell_type": "code",
   "execution_count": 352,
   "id": "24b74727-6e62-47eb-beac-5bbc45edc8fd",
   "metadata": {},
   "outputs": [
    {
     "data": {
      "text/html": [
       "<div>\n",
       "<style scoped>\n",
       "    .dataframe tbody tr th:only-of-type {\n",
       "        vertical-align: middle;\n",
       "    }\n",
       "\n",
       "    .dataframe tbody tr th {\n",
       "        vertical-align: top;\n",
       "    }\n",
       "\n",
       "    .dataframe thead th {\n",
       "        text-align: right;\n",
       "    }\n",
       "</style>\n",
       "<table border=\"1\" class=\"dataframe\">\n",
       "  <thead>\n",
       "    <tr style=\"text-align: right;\">\n",
       "      <th></th>\n",
       "      <th>word</th>\n",
       "    </tr>\n",
       "  </thead>\n",
       "  <tbody>\n",
       "    <tr>\n",
       "      <th>0</th>\n",
       "      <td>a</td>\n",
       "    </tr>\n",
       "    <tr>\n",
       "      <th>1</th>\n",
       "      <td>aa</td>\n",
       "    </tr>\n",
       "    <tr>\n",
       "      <th>2</th>\n",
       "      <td>aal</td>\n",
       "    </tr>\n",
       "    <tr>\n",
       "      <th>3</th>\n",
       "      <td>aalii</td>\n",
       "    </tr>\n",
       "    <tr>\n",
       "      <th>4</th>\n",
       "      <td>aam</td>\n",
       "    </tr>\n",
       "    <tr>\n",
       "      <th>...</th>\n",
       "      <td>...</td>\n",
       "    </tr>\n",
       "    <tr>\n",
       "      <th>235880</th>\n",
       "      <td>zythem</td>\n",
       "    </tr>\n",
       "    <tr>\n",
       "      <th>235881</th>\n",
       "      <td>Zythia</td>\n",
       "    </tr>\n",
       "    <tr>\n",
       "      <th>235882</th>\n",
       "      <td>zythum</td>\n",
       "    </tr>\n",
       "    <tr>\n",
       "      <th>235883</th>\n",
       "      <td>Zyzomys</td>\n",
       "    </tr>\n",
       "    <tr>\n",
       "      <th>235884</th>\n",
       "      <td>Zyzzogeton</td>\n",
       "    </tr>\n",
       "  </tbody>\n",
       "</table>\n",
       "<p>235885 rows × 1 columns</p>\n",
       "</div>"
      ],
      "text/plain": [
       "              word\n",
       "0                a\n",
       "1               aa\n",
       "2              aal\n",
       "3            aalii\n",
       "4              aam\n",
       "...            ...\n",
       "235880      zythem\n",
       "235881      Zythia\n",
       "235882      zythum\n",
       "235883     Zyzomys\n",
       "235884  Zyzzogeton\n",
       "\n",
       "[235885 rows x 1 columns]"
      ]
     },
     "execution_count": 352,
     "metadata": {},
     "output_type": "execute_result"
    }
   ],
   "source": [
    "words"
   ]
  },
  {
   "cell_type": "code",
   "execution_count": null,
   "id": "cbf3a74b-1d67-464f-a494-1a1a06f70aa2",
   "metadata": {},
   "outputs": [],
   "source": []
  }
 ],
 "metadata": {
  "kernelspec": {
   "display_name": "Python 3 (ipykernel)",
   "language": "python",
   "name": "python3"
  },
  "language_info": {
   "codemirror_mode": {
    "name": "ipython",
    "version": 3
   },
   "file_extension": ".py",
   "mimetype": "text/x-python",
   "name": "python",
   "nbconvert_exporter": "python",
   "pygments_lexer": "ipython3",
   "version": "3.9.7"
  }
 },
 "nbformat": 4,
 "nbformat_minor": 5
}
